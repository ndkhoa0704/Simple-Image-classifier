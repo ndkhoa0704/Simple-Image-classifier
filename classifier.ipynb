{
 "cells": [
  {
   "cell_type": "code",
   "execution_count": null,
   "source": [
    "import numpy as np\r\n",
    "import matplotlib.pyplot as plt\r\n",
    "from PIL import Image\r\n",
    "import seaborn as sns\r\n",
    "from sklearn.linear_model import SGDClassifier\r\n",
    "from sklearn.model_selection import train_test_split\r\n",
    "from sklearn.metrics import confusion_matrix, accuracy_score\r\n",
    "import os\r\n",
    "import random"
   ],
   "outputs": [],
   "metadata": {}
  },
  {
   "cell_type": "code",
   "execution_count": 3,
   "source": [
    "classname = {'buildings':0, 'forest': 1, 'glacier':2, 'mountain': 3, 'sea': 4, 'street': 5}"
   ],
   "outputs": [],
   "metadata": {}
  },
  {
   "cell_type": "code",
   "execution_count": 36,
   "source": [
    "path = 'seg_train'\r\n",
    "label = np.array([])\r\n",
    "file_names = []\r\n",
    "for i in list(classname.keys()):\r\n",
    "    tmp = os.listdir(f'{path}/{i}/')\r\n",
    "    for _ in range(500):\r\n",
    "        file_names.append(f'{path}/{i}/{random.choice(tmp)}')\r\n",
    "        label = np.append(label, classname[i])\r\n",
    "\r\n",
    "img = np.array(Image.open(file_names[0]).convert('L'))\r\n",
    "dataset = img.flatten()\r\n",
    "\r\n",
    "for i in range(1, len(file_names)):\r\n",
    "    img = np.array(Image.open(file_names[i]).convert('L'))\r\n",
    "    dataset = np.vstack((dataset, img.flatten()))"
   ],
   "outputs": [],
   "metadata": {}
  },
  {
   "cell_type": "code",
   "execution_count": 27,
   "source": [
    "dataset = np.hstack((dataset, label.reshape(-1,1)))"
   ],
   "outputs": [],
   "metadata": {}
  },
  {
   "cell_type": "code",
   "execution_count": 28,
   "source": [
    "X_train, X_test, y_train, y_test = train_test_split(dataset,label,test_size=0.2)"
   ],
   "outputs": [],
   "metadata": {}
  },
  {
   "cell_type": "code",
   "execution_count": 51,
   "source": [
    "clf = SGDClassifier(random_state=42, max_iter=1000, tol=1e-3)\r\n",
    "clf.fit(X_train, y_train) "
   ],
   "outputs": [
    {
     "output_type": "execute_result",
     "data": {
      "text/plain": [
       "SGDClassifier(random_state=42)"
      ]
     },
     "metadata": {},
     "execution_count": 51
    }
   ],
   "metadata": {}
  },
  {
   "cell_type": "code",
   "execution_count": 52,
   "source": [
    "y_est = clf.predict(X_test)"
   ],
   "outputs": [],
   "metadata": {}
  },
  {
   "cell_type": "code",
   "execution_count": 53,
   "source": [
    "accuracy_score(y_pred=y_est,y_true=y_test)"
   ],
   "outputs": [
    {
     "output_type": "execute_result",
     "data": {
      "text/plain": [
       "0.5016666666666667"
      ]
     },
     "metadata": {},
     "execution_count": 53
    }
   ],
   "metadata": {}
  },
  {
   "cell_type": "code",
   "execution_count": 50,
   "source": [
    "cfm = confusion_matrix(y_test, y_est)\r\n",
    "sns.heatmap(cfm, annot=True,  linewidths=.5, cbar=None)\r\n",
    "plt.ylabel('True')\r\n",
    "plt.xlabel('Predicted')"
   ],
   "outputs": [
    {
     "output_type": "execute_result",
     "data": {
      "text/plain": [
       "Text(0.5, 15.0, 'Predicted')"
      ]
     },
     "metadata": {},
     "execution_count": 50
    },
    {
     "output_type": "display_data",
     "data": {
      "image/png": "[encoded data removed]",
      "text/plain": [
       "<Figure size 432x288 with 1 Axes>"
      ]
     },
     "metadata": {
      "needs_background": "light"
     }
    }
   ],
   "metadata": {}
  }
 ],
 "metadata": {
  "orig_nbformat": 4,
  "language_info": {
   "name": "python",
   "version": "3.9.7",
   "mimetype": "text/x-python",
   "codemirror_mode": {
    "name": "ipython",
    "version": 3
   },
   "pygments_lexer": "ipython3",
   "nbconvert_exporter": "python",
   "file_extension": ".py"
  },
  "kernelspec": {
   "name": "python3",
   "display_name": "Python 3.9.7 64-bit"
  },
  "interpreter": {
   "hash": "70c2d598eb787fc1bb8b002837a116dbeef6c129b9232cdd39d229ab6534859a"
  }
 },
 "nbformat": 4,
 "nbformat_minor": 2
}